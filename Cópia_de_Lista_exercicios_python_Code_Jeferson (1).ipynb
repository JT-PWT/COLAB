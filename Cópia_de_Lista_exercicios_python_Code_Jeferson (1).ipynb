{
  "nbformat": 4,
  "nbformat_minor": 0,
  "metadata": {
    "colab": {
      "provenance": []
    },
    "kernelspec": {
      "name": "python3",
      "display_name": "Python 3"
    },
    "language_info": {
      "name": "python"
    }
  },
  "cells": [
    {
      "cell_type": "code",
      "execution_count": null,
      "metadata": {
        "id": "_FXUnxoCY03E",
        "colab": {
          "base_uri": "https://localhost:8080/",
          "height": 106
        },
        "outputId": "4eab4b5a-706c-48b2-94fb-185a6670de23"
      },
      "outputs": [
        {
          "output_type": "error",
          "ename": "SyntaxError",
          "evalue": "invalid syntax (<ipython-input-31-f59966170054>, line 38)",
          "traceback": [
            "\u001b[0;36m  File \u001b[0;32m\"<ipython-input-31-f59966170054>\"\u001b[0;36m, line \u001b[0;32m38\u001b[0m\n\u001b[0;31m    elif num1 == num2:\u001b[0m\n\u001b[0m    ^\u001b[0m\n\u001b[0;31mSyntaxError\u001b[0m\u001b[0;31m:\u001b[0m invalid syntax\n"
          ]
        }
      ],
      "source": [
        "'''\n",
        "Crie duas variáveis com dois valores numéricos inteiros digitados pelo usuário,\n",
        "caso o valor do primeiro número for maior que o do segundo, exiba em tela uma\n",
        "mensagem de acordo, caso contrário, exiba em tela uma mensagem dizendo que o\n",
        "primeiro valor digitado é menor que o segundo:\n",
        "'''\n",
        "\n",
        "#INPUT DUAS VARIÁVEIS\n",
        "\n",
        "#num1 = int(input('Informe o primeiro número: '))\n",
        "#num2 = int(input('Informe o segundo número: '))\n",
        "\n",
        "#EXIBIR EM TELA UMA MENSAGEM\n",
        "\n",
        "#if num1 > num2:\n",
        "  #print('O primeiro número é maior que o segundo.')\n",
        "#else:\n",
        "  #print('O primeiro número é menor que o segundo.')\n",
        "\n",
        "while True:\n",
        "  try:\n",
        "    num1 = float(input('Informe o primeiro número: '))\n",
        "    break\n",
        "  except:\n",
        "    print('Informe um número válido.')\n",
        "while True:\n",
        "  try:\n",
        "    num2 = float(input('Informe o segundo número: '))\n",
        "    break\n",
        "  except:\n",
        "    print('Informe um número válido.')\n",
        "    if num1 > num2:\n",
        "      print('O primeiro número é maior que o segundo.')\n",
        "      break\n",
        "    elif num1 < num2:\n",
        "      print('O primeiro número é menor que o segundo.')\n",
        "      break\n",
        "  elif num1 == num2:\n",
        "    print('Os números são iguais.')\n",
        "  elif num2 > num1:\n",
        "    print('O segundo número é maior que o primeiro.')\n"
      ]
    },
    {
      "cell_type": "code",
      "source": [
        "'''\n",
        "Peça para que o usuário digite um número inteiro, em seguida exiba em tela uma\n",
        "mensagem dizendo se tal número é PAR ou se é ÍMPAR:\n",
        "'''\n",
        "#DIGITAR NÚMERO INTEIRO\n",
        "\n",
        "num1 = int(input('Digite um número inteiro: '))\n",
        "\n",
        "#DIZ SE O NÚMERO É PAR OU ÍMPAR\n",
        "\n",
        "if num1 % 2 == 0:\n",
        "  print('O número digitado é par.')\n",
        "else:\n",
        "  print('O número digitado é ímpar.')"
      ],
      "metadata": {
        "id": "fDwBk8xXbZlv",
        "colab": {
          "base_uri": "https://localhost:8080/"
        },
        "outputId": "d18a80db-af51-406a-9dc4-a3ede991d06b"
      },
      "execution_count": null,
      "outputs": [
        {
          "output_type": "stream",
          "name": "stdout",
          "text": [
            "Digite um número inteiro: 7\n",
            "O número digitado é ímpar.\n"
          ]
        }
      ]
    },
    {
      "cell_type": "code",
      "source": [
        "'''\n",
        "Crie uma variável com valor inicial 0, enquanto o valor dessa variável for\n",
        "igual ou menos que 10, exiba em tela o próprio valor da variável. A cada\n",
        "execução a mesma deve ter seu valor atualizado, incrementado em 1 unidade.\n",
        "'''\n",
        "valor_inicial = 0\n",
        "\n",
        "while valor_inicial <= 10:\n",
        "    print(valor_inicial)\n",
        "    valor_inicial += 1\n",
        "\n"
      ],
      "metadata": {
        "id": "vvnxDzyPiPra",
        "colab": {
          "base_uri": "https://localhost:8080/"
        },
        "outputId": "b242e58c-4794-438f-e6dd-13e956d50055"
      },
      "execution_count": null,
      "outputs": [
        {
          "output_type": "stream",
          "name": "stdout",
          "text": [
            "0\n",
            "1\n",
            "2\n",
            "3\n",
            "4\n",
            "5\n",
            "6\n",
            "7\n",
            "8\n",
            "9\n",
            "10\n"
          ]
        }
      ]
    },
    {
      "cell_type": "code",
      "source": [
        "'''\n",
        "Crie uma lista com 8 elementos de uma lista de compras de supermercado, por\n",
        "meio de um laço de repetição for liste individualmente cada um dos itens dessa\n",
        "lista.\n",
        "'''\n",
        "produtos = [\"Trigo\",\"Queijo mussarela\",\"Presunto\",\"Milho em lata\",\"Massa de tomate\",\"Azeitona\",\"Champignon\",\"orégano\"]\n",
        "for i in produtos:\n",
        "    print(i)\n"
      ],
      "metadata": {
        "id": "WAa7ns3zjsRO"
      },
      "execution_count": null,
      "outputs": []
    },
    {
      "cell_type": "code",
      "source": [
        "'''\n",
        "Crie um programa que lê um valor de início e um valor de fim informados pelo\n",
        "usuário, exibindo em tela contagem dos números dentro desse intervalo.\n",
        "'''\n",
        "num1 = int(input(\"Digite o valor inicial: \"))\n",
        "num2 = int(input(\"Digite o valor final: \"))\n",
        "\n",
        "for i in range(num1, num2):\n",
        "    print(i)\n",
        "\n",
        "\n"
      ],
      "metadata": {
        "id": "CrAanzZDoOE9"
      },
      "execution_count": null,
      "outputs": []
    },
    {
      "cell_type": "code",
      "source": [
        "'''\n",
        "Crie um programa que exibe em tela a tabuada de um determinado número fornecido\n",
        "pelo usuário:\n",
        "'''\n",
        "def tabuada(num1):\n",
        "    print(f\"Tabuada do {num1}:\")\n",
        "    for i in range(1, 101):\n",
        "        print(f\"{num1} X {i} = {num1 * i}\")\n",
        "\n",
        "# Solicita um número ao usuário\n",
        "try:\n",
        "    num1 = int(input(\"Digite um número para ver sua tabuada: \"))\n",
        "    tabuada(num1)\n",
        "except ValueError:\n",
        "    print(\"Por favor, digite um número inteiro válido.\")\n",
        "\n"
      ],
      "metadata": {
        "id": "twRxP9lGqifc"
      },
      "execution_count": null,
      "outputs": []
    },
    {
      "cell_type": "code",
      "source": [
        "'''\n",
        "Crie um programa que pede ao usuário que o mesmo digite um número inteiro\n",
        "qualquer, em  seguida retorne se esse número é primo ou não, caso não, retorne\n",
        "também quantas vezes esse número é divisível:\n",
        "'''\n",
        "#DIGITE UM NÚMERO INTEIRO\n",
        "numero = int(input('Digite um número inteiro: '))\n",
        "divisoes = 0\n",
        "\n",
        "for i in range(1, numero + 1):\n",
        "  if numero % i == 0:\n",
        "    divisoes += 1\n",
        "\n",
        "if divisoes == 2:\n",
        "  print(f'O número {numero} é primo.')\n",
        "else:\n",
        "  print(f'O número {numero} não é primo.')\n",
        "  print(f'O número {numero} é divisível {divisoes} vezes.')\n"
      ],
      "metadata": {
        "id": "30S-znZYtOGs",
        "colab": {
          "base_uri": "https://localhost:8080/"
        },
        "outputId": "131d3e52-30c8-4fc2-a0ce-caa347cfb5c6"
      },
      "execution_count": 4,
      "outputs": [
        {
          "output_type": "stream",
          "name": "stdout",
          "text": [
            "Digite um número inteiro: 9\n",
            "O número 9 não é primo.\n",
            "O número 9 é divisível 3 vezes.\n"
          ]
        }
      ]
    }
  ]
}